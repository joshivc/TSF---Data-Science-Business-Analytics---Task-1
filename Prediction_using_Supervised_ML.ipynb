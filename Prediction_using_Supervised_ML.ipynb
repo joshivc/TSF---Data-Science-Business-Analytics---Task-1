{
  "nbformat": 4,
  "nbformat_minor": 0,
  "metadata": {
    "colab": {
      "name": "Prediction using Supervised ML.ipynb",
      "provenance": []
    },
    "kernelspec": {
      "name": "python3",
      "display_name": "Python 3"
    }
  },
  "cells": [
    {
      "cell_type": "code",
      "metadata": {
        "id": "nyb4979u7a6W"
      },
      "source": [
        "#Importing all the necessary libraries.\r\n",
        "import pandas as pd\r\n",
        "import numpy as np  \r\n",
        "import matplotlib.pyplot as plt  \r\n",
        "%matplotlib inline\r\n",
        "from sklearn.model_selection import train_test_split\r\n",
        "from sklearn.metrics import mean_squared_error\r\n",
        "from sklearn.metrics import r2_score\r\n",
        "from sklearn.metrics import mean_absolute_error"
      ],
      "execution_count": 5,
      "outputs": []
    },
    {
      "cell_type": "code",
      "metadata": {
        "id": "muw7bkgnKrxf"
      },
      "source": [
        "# Importing the data\r\n",
        "url= \"http://bit.ly/w-data \"\r\n",
        "data=pd.read_csv(url)\r\n",
        "data1=data\r\n",
        "print(\"=====/===== Data imported successfully! =====/=====\")\r\n",
        "data #Displaying the data"
      ],
      "execution_count": null,
      "outputs": []
    },
    {
      "cell_type": "code",
      "metadata": {
        "id": "vby_YRjMK7WX"
      },
      "source": [
        "data.describe() #Description of the data."
      ],
      "execution_count": null,
      "outputs": []
    },
    {
      "cell_type": "markdown",
      "metadata": {
        "id": "xn9n-q0BLCI6"
      },
      "source": [
        "\r\n",
        "**Data Visualization:**- (Let's plot a graph to have a clear understanding about our data.)"
      ]
    },
    {
      "cell_type": "code",
      "metadata": {
        "id": "5Hyg6oE4L68x"
      },
      "source": [
        "#Plotting the distribution of scores.\r\n",
        "data.plot(x='Hours', y='Scores', style='o')  \r\n",
        "plt.title('Hours vs Percentage')  \r\n",
        "plt.xlabel('Hours Studied')  \r\n",
        "plt.ylabel('Percentage Scored')  \r\n",
        "plt.show()"
      ],
      "execution_count": null,
      "outputs": []
    },
    {
      "cell_type": "markdown",
      "metadata": {
        "id": "XXgVOWXMMGVL"
      },
      "source": [
        "\r\n",
        "***Linear Regression model*** -\r\n",
        "Preparing the data and splitting it in testing."
      ]
    },
    {
      "cell_type": "code",
      "metadata": {
        "id": "zdT9RcQUMWzU"
      },
      "source": [
        "# Dividing the data into attributes and labels.\r\n",
        "x=data.iloc[:, :-1].values\r\n",
        "y=data.iloc[:, 1].values"
      ],
      "execution_count": 9,
      "outputs": []
    },
    {
      "cell_type": "code",
      "metadata": {
        "id": "WK8O8ii6MbR_"
      },
      "source": [
        "# Using in-built method of sci-kit learn of train_test_split()\r\n",
        "from sklearn.model_selection import train_test_split\r\n",
        "x_train, x_test, y_train, y_test = train_test_split(x, y, test_size = 0.4, random_state = 0)"
      ],
      "execution_count": 10,
      "outputs": []
    },
    {
      "cell_type": "markdown",
      "metadata": {
        "id": "VMtH44lNMf7G"
      },
      "source": [
        "\r\n",
        "*Training the algorithm*"
      ]
    },
    {
      "cell_type": "code",
      "metadata": {
        "id": "EWu5TvoNMlje"
      },
      "source": [
        "\r\n",
        "from sklearn.linear_model import LinearRegression\r\n",
        "regressor = LinearRegression()\r\n",
        "regressor.fit(x_train, y_train)\r\n",
        "print(\"Success = Training completed!\")"
      ],
      "execution_count": null,
      "outputs": []
    },
    {
      "cell_type": "markdown",
      "metadata": {
        "id": "CEExeuuZMxUn"
      },
      "source": [
        "*Plotting the Regression line*"
      ]
    },
    {
      "cell_type": "code",
      "metadata": {
        "id": "XUAi_nT5M4TZ"
      },
      "source": [
        "line = regressor.coef_*x+regressor.intercept_\r\n",
        "plt.scatter(x,y)\r\n",
        "plt.plot(x,line)\r\n",
        "plt.show() #Display the line"
      ],
      "execution_count": null,
      "outputs": []
    },
    {
      "cell_type": "markdown",
      "metadata": {
        "id": "IyMFnYzOM8cY"
      },
      "source": [
        "***Predicting the scores*** for the model -"
      ]
    },
    {
      "cell_type": "code",
      "metadata": {
        "id": "pi_SX2c8NJ1Q"
      },
      "source": [
        "print(x_test)\r\n",
        "y_predict = regressor.predict(x_test)"
      ],
      "execution_count": null,
      "outputs": []
    },
    {
      "cell_type": "markdown",
      "metadata": {
        "id": "IyMUyo4GNMJl"
      },
      "source": [
        "*Comparing the actual and predicted scores*"
      ]
    },
    {
      "cell_type": "code",
      "metadata": {
        "id": "x9JWQ_1LNUUW"
      },
      "source": [
        "data2 = pd.DataFrame({'Actual Score': y_test, 'Predicted score': y_predict})\r\n",
        "print(data2) #Displaying the scores side by side."
      ],
      "execution_count": null,
      "outputs": []
    },
    {
      "cell_type": "markdown",
      "metadata": {
        "id": "EGSrSNSZNi_P"
      },
      "source": [
        "Checking the *accuracy of training and test scores*"
      ]
    },
    {
      "cell_type": "code",
      "metadata": {
        "id": "jT-65tanNoiX"
      },
      "source": [
        "print('Test Score')\r\n",
        "print(regressor.score(x_test, y_test))\r\n",
        "print('Training Score')\r\n",
        "print(regressor.score(x_train, y_train))"
      ],
      "execution_count": null,
      "outputs": []
    },
    {
      "cell_type": "markdown",
      "metadata": {
        "id": "GXPi2YYfNsSl"
      },
      "source": [
        "***Making Predictions*** Let us predict the *score of a student who has studied for 9.25 hours*."
      ]
    },
    {
      "cell_type": "code",
      "metadata": {
        "id": "-9mXoY_2NyvN"
      },
      "source": [
        "print('Score of the student who studied for 9.25 hours is: ', regressor.predict([[9.25]]))"
      ],
      "execution_count": null,
      "outputs": []
    },
    {
      "cell_type": "markdown",
      "metadata": {
        "id": "4Mr9onGXNz7X"
      },
      "source": [
        "***Model Evaluation metrics***"
      ]
    },
    {
      "cell_type": "code",
      "metadata": {
        "id": "jcVLSZ9AN4WM"
      },
      "source": [
        "from sklearn import metrics\r\n",
        "mean_squ_error = mean_squared_error(y_test, y_predict)\r\n",
        "mean_abs_error = mean_absolute_error(y_test, y_predict)\r\n",
        "print(\"Mean Squared Error is:\",mean_squ_error)\r\n",
        "print(\"Mean Absolute Error is:\",mean_abs_error)"
      ],
      "execution_count": null,
      "outputs": []
    }
  ]
}